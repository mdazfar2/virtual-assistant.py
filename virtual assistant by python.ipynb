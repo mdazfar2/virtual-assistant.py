{
 "cells": [
  {
   "cell_type": "code",
   "execution_count": null,
   "id": "0811f397",
   "metadata": {},
   "outputs": [
    {
     "name": "stdout",
     "output_type": "stream",
     "text": [
      "Hey, I am your assistant.\n",
      "How can I help you: open cmd\n",
      "Opening Command Prompt...\n"
     ]
    }
   ],
   "source": [
    "import os\n",
    "\n",
    "print(\"Hey, I am your assistant.\")\n",
    "\n",
    "def open_calendar():\n",
    "    print(\"Opening calendar...\")\n",
    "    os.system(\"start outlookcal:\")\n",
    "\n",
    "def open_chrome():\n",
    "    print(\"Opening Chrome...\")\n",
    "    os.system(\"start chrome\")\n",
    "\n",
    "def open_file_explorer():\n",
    "    print(\"Opening File Explorer...\")\n",
    "    os.system(\"start explorer\")\n",
    "\n",
    "def open_command_prompt():\n",
    "    print(\"Opening Command Prompt...\")\n",
    "    os.system(\"start cmd\")\n",
    "\n",
    "def open_control_panel():\n",
    "    print(\"Opening Control Panel...\")\n",
    "    os.system(\"start control\")\n",
    "\n",
    "def open_task_manager():\n",
    "    print(\"Opening Task Manager...\")\n",
    "    os.system(\"start taskmgr\")\n",
    "\n",
    "def open_system_settings():\n",
    "    print(\"Opening System Settings...\")\n",
    "    os.system(\"start ms-settings:\")\n",
    "\n",
    "def assistance():\n",
    "    ch = input(\"How can I help you: \").strip()\n",
    "    return ch\n",
    "\n",
    "while True:\n",
    "    ch = assistance()\n",
    "\n",
    "    if (\"run\" in ch or \"execute\" in ch) and \"cal\" in ch:\n",
    "        open_calendar()\n",
    "        \n",
    "    elif (\"run\" in ch or \"open\" in ch or \"execute\" in ch) and \"chrome\" in ch:\n",
    "        open_chrome()\n",
    "    \n",
    "    elif (\"run\" in ch or \"open\" in ch) and \"file explorer\" in ch:\n",
    "        open_file_explorer()\n",
    "    \n",
    "    elif (\"run\" in ch or \"open\" in ch) and \"cmd\" in ch:\n",
    "        open_command_prompt()\n",
    "    \n",
    "    elif (\"run\" in ch or \"open\" in ch) and \"control panel\" in ch:\n",
    "        open_control_panel()\n",
    "    \n",
    "    elif (\"run\" in ch or \"open\" in ch) and \"task manager\" in ch:\n",
    "        open_task_manager()\n",
    "    \n",
    "    elif (\"run\" in ch or \"open\" in ch) and \"setting\" in ch:\n",
    "        open_system_settings()\n",
    "    \n",
    "    elif \"exit\" in ch:\n",
    "        print(\"Thank you, bye.\")\n",
    "        break\n",
    "    \n",
    "    else:\n",
    "        print(\"Please type valid text...\")\n"
   ]
  },
  {
   "cell_type": "code",
   "execution_count": null,
   "id": "9f194754",
   "metadata": {},
   "outputs": [],
   "source": []
  }
 ],
 "metadata": {
  "kernelspec": {
   "display_name": "Python 3 (ipykernel)",
   "language": "python",
   "name": "python3"
  },
  "language_info": {
   "codemirror_mode": {
    "name": "ipython",
    "version": 3
   },
   "file_extension": ".py",
   "mimetype": "text/x-python",
   "name": "python",
   "nbconvert_exporter": "python",
   "pygments_lexer": "ipython3",
   "version": "3.11.3"
  }
 },
 "nbformat": 4,
 "nbformat_minor": 5
}
